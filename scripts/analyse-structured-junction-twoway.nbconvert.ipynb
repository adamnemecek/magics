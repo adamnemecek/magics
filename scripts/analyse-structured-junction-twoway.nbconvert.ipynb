{
 "cells": [
  {
   "cell_type": "code",
   "execution_count": null,
   "metadata": {
    "execution": {
     "iopub.execute_input": "2024-07-24T16:17:19.263297Z",
     "iopub.status.busy": "2024-07-24T16:17:19.262803Z",
     "iopub.status.idle": "2024-07-24T16:17:20.187770Z",
     "shell.execute_reply": "2024-07-24T16:17:20.187344Z"
    }
   },
   "outputs": [],
   "source": [
    "import inspect, os, sys\n",
    "\n",
    "import re\n",
    "import json\n",
    "import statistics\n",
    "import argparse\n",
    "import itertools\n",
    "from pathlib import Path\n",
    "from dataclasses import dataclass\n",
    "\n",
    "def cd_if_exists(dir: Path | str) -> bool:\n",
    "    if isinstance(dir, str):\n",
    "        dir = Path(dir)\n",
    "    if dir.exists() and dir.is_dir():\n",
    "        os.chdir(dir)\n",
    "        return True\n",
    "    else:\n",
    "        return False\n",
    "\n",
    "# Normally start VSCode (or whatever you use to run this notebook interactively) from the root, so\n",
    "# we have to `cd` into the parent dir of this file, to access utils functions.\n",
    "cd_if_exists('./scripts')\n",
    "\n",
    "\n",
    "# These are util functions\n",
    "from ldj import ldj\n",
    "from utils import *\n",
    "\n",
    "import numpy as np\n",
    "import matplotlib.pyplot as plt\n",
    "# from matplotlib.font_manager import FontProperties\n",
    "import matplotlib.font_manager as fm\n",
    "from matplotlib.patches import FancyBboxPatch\n",
    "from matplotlib.patches import PathPatch\n",
    "from matplotlib.path import get_path_collection_extents\n",
    "import seaborn as sns\n",
    "\n",
    "from rich import print, pretty\n",
    "from tabulate import tabulate\n",
    "from typing import  Iterable\n",
    "import pretty_errors\n",
    "from catppuccin import PALETTE\n",
    "from IPython.display import display, HTML\n",
    "\n",
    "pretty.install()\n",
    "print(f\"{os.getcwd()=}\")\n",
    "\n",
    "EXPERIMENT_DIR = Path(\"../experiments/structured-junction-twoway\")\n",
    "assert EXPERIMENT_DIR.is_dir() and EXPERIMENT_DIR.exists()\n",
    "\n",
    "flavor = PALETTE.latte.colors\n",
    "# data = dict()\n",
    "\n",
    "# @dataclass\n",
    "# class Results:\n",
    "#     with_tracking: dict\n",
    "#     without_tracking: dict\n",
    "\n",
    "# results = Results(dict(), dict())\n",
    "\n",
    "# with open(EXPERIMENT_DIR / \"tracking-true.json\") as f:\n",
    "#     results.with_tracking = json.load(f)\n",
    "\n",
    "# with open(EXPERIMENT_DIR / \"tracking-false.json\") as f:\n",
    "#     results.without_tracking = json.load(f)\n"
   ]
  },
  {
   "cell_type": "code",
   "execution_count": null,
   "metadata": {
    "execution": {
     "iopub.execute_input": "2024-07-24T16:17:20.190049Z",
     "iopub.status.busy": "2024-07-24T16:17:20.189903Z",
     "iopub.status.idle": "2024-07-24T16:17:20.193376Z",
     "shell.execute_reply": "2024-07-24T16:17:20.193155Z"
    }
   },
   "outputs": [],
   "source": [
    "2 + 3\n"
   ]
  },
  {
   "cell_type": "code",
   "execution_count": null,
   "metadata": {},
   "outputs": [],
   "source": []
  }
 ],
 "metadata": {
  "language_info": {
   "codemirror_mode": {
    "name": "ipython",
    "version": 3
   },
   "file_extension": ".py",
   "mimetype": "text/x-python",
   "name": "python",
   "nbconvert_exporter": "python",
   "pygments_lexer": "ipython3",
   "version": "3.11.9"
  }
 },
 "nbformat": 4,
 "nbformat_minor": 2
}
